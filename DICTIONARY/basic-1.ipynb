{
 "cells": [
  {
   "cell_type": "markdown",
   "id": "100ed382",
   "metadata": {},
   "source": [
    "## Dictionary Data Type\n"
   ]
  },
  {
   "cell_type": "markdown",
   "id": "58940e36",
   "metadata": {},
   "source": [
    "###### Duplicates keys are not allowed but values can be duplicate "
   ]
  },
  {
   "cell_type": "markdown",
   "id": "0a49c6fc",
   "metadata": {},
   "source": [
    "###### Hetrogeneous objects are allowed for both keys and values "
   ]
  },
  {
   "cell_type": "markdown",
   "id": "0650da21",
   "metadata": {},
   "source": [
    "###### insertion order is not preserved "
   ]
  },
  {
   "cell_type": "markdown",
   "id": "ed3adea5",
   "metadata": {},
   "source": [
    "###### Dictionaries are mutable"
   ]
  },
  {
   "cell_type": "markdown",
   "id": "df6ed8d7",
   "metadata": {},
   "source": [
    "###### dictionaries are dynamic"
   ]
  },
  {
   "cell_type": "markdown",
   "id": "16aee777",
   "metadata": {},
   "source": [
    "###### indexing and slicing concepts are not applicable"
   ]
  },
  {
   "cell_type": "markdown",
   "id": "9dbee84d",
   "metadata": {},
   "source": [
    "# Dictionaries are used to store data value in key:value,pairs"
   ]
  },
  {
   "cell_type": "markdown",
   "id": "81659c3e",
   "metadata": {},
   "source": [
    "### Dictionaries are written with curly brackets and have key and values ."
   ]
  },
  {
   "cell_type": "markdown",
   "id": "129aa315",
   "metadata": {},
   "source": [
    "## Note"
   ]
  },
  {
   "cell_type": "markdown",
   "id": "52b2ad5c",
   "metadata": {},
   "source": [
    "###### In c++ and java dictinaries are known as \"map\",,,where as in perl and rubby it is known as \"HASH\""
   ]
  },
  {
   "cell_type": "markdown",
   "id": "75eb0395",
   "metadata": {},
   "source": [
    "# how to create a dictionary"
   ]
  },
  {
   "cell_type": "markdown",
   "id": "e0562238",
   "metadata": {},
   "source": [
    "## we can create empty dictionary by using curly brackets {}  or \"dict()\" function"
   ]
  },
  {
   "cell_type": "code",
   "execution_count": 6,
   "id": "f4eff159",
   "metadata": {},
   "outputs": [
    {
     "name": "stdout",
     "output_type": "stream",
     "text": [
      "<class 'dict'>\n"
     ]
    }
   ],
   "source": [
    "d = {}\n",
    "print(type(d))"
   ]
  },
  {
   "cell_type": "code",
   "execution_count": 8,
   "id": "921ebf5f",
   "metadata": {},
   "outputs": [
    {
     "name": "stdout",
     "output_type": "stream",
     "text": [
      "{}\n",
      "<class 'dict'>\n"
     ]
    }
   ],
   "source": [
    "dic = dict()\n",
    "print(v)\n",
    "print(type(v))"
   ]
  },
  {
   "cell_type": "code",
   "execution_count": 9,
   "id": "261ccc7f",
   "metadata": {},
   "outputs": [],
   "source": [
    "dic[\"NAME\"]=\"MOHAN YADAV\""
   ]
  },
  {
   "cell_type": "code",
   "execution_count": 10,
   "id": "3a2928ba",
   "metadata": {},
   "outputs": [],
   "source": [
    "dic[\"age\"]=21"
   ]
  },
  {
   "cell_type": "code",
   "execution_count": 11,
   "id": "ae262f58",
   "metadata": {},
   "outputs": [],
   "source": [
    "dic[\"branch\"]=\"MCA\""
   ]
  },
  {
   "cell_type": "code",
   "execution_count": 12,
   "id": "29daa5cf",
   "metadata": {},
   "outputs": [
    {
     "name": "stdout",
     "output_type": "stream",
     "text": [
      "{'NAME': 'MOHAN YADAV', 'age': 21, 'branch': 'MCA'}\n"
     ]
    }
   ],
   "source": [
    "print(dic)"
   ]
  },
  {
   "cell_type": "code",
   "execution_count": 13,
   "id": "99afcb9d",
   "metadata": {},
   "outputs": [
    {
     "name": "stdout",
     "output_type": "stream",
     "text": [
      "{'NAME': 'MOHAN YADAV', 'age': 21, 'branch': 'master of computer science'}\n"
     ]
    }
   ],
   "source": [
    "dic[\"branch\"]=\"master of computer science\"\n",
    "print(dic)"
   ]
  },
  {
   "cell_type": "code",
   "execution_count": null,
   "id": "9b7f7885",
   "metadata": {},
   "outputs": [],
   "source": []
  }
 ],
 "metadata": {
  "kernelspec": {
   "display_name": "Python 3 (ipykernel)",
   "language": "python",
   "name": "python3"
  },
  "language_info": {
   "codemirror_mode": {
    "name": "ipython",
    "version": 3
   },
   "file_extension": ".py",
   "mimetype": "text/x-python",
   "name": "python",
   "nbconvert_exporter": "python",
   "pygments_lexer": "ipython3",
   "version": "3.10.4"
  }
 },
 "nbformat": 4,
 "nbformat_minor": 5
}
