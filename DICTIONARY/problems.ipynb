{
 "cells": [
  {
   "cell_type": "markdown",
   "id": "1618db8b",
   "metadata": {},
   "source": [
    "## write a program to enter name and percentage marks in a dictionary and display the information on the screen "
   ]
  },
  {
   "cell_type": "code",
   "execution_count": 1,
   "id": "ad78c819",
   "metadata": {},
   "outputs": [
    {
     "name": "stdout",
     "output_type": "stream",
     "text": [
      "enter number of students : 3\n",
      "enter Student name :happy\n",
      "enter marks of student :89\n",
      "enter Student name :mohan gandhi\n",
      "enter marks of student :97\n",
      "enter Student name :nagendra\n",
      "enter marks of student :89\n",
      "{'happy': '89', 'mohan gandhi': '97', 'nagendra': '89'}\n"
     ]
    }
   ],
   "source": [
    "record = {}\n",
    "n = int(input(\"enter number of students : \"))\n",
    "i=1\n",
    "while i<=n:\n",
    "    name = input(\"enter Student name :\")\n",
    "    marks=input(\"enter marks of student :\")\n",
    "    record[name]=marks\n",
    "    i=i+1\n",
    "print(record)\n",
    "    "
   ]
  },
  {
   "cell_type": "code",
   "execution_count": 2,
   "id": "10493e69",
   "metadata": {},
   "outputs": [
    {
     "name": "stdout",
     "output_type": "stream",
     "text": [
      "Name of Student \t % of marks\n",
      "\t happy \t\t 89\n",
      "\t mohan gandhi \t\t 97\n",
      "\t nagendra \t\t 89\n"
     ]
    }
   ],
   "source": [
    "print(\"Name of Student\",\"\\t\",\"% of marks\")\n",
    "for x in record:\n",
    "    print(\"\\t\",x,\"\\t\\t\",record[x])"
   ]
  },
  {
   "cell_type": "markdown",
   "id": "7c178b8b",
   "metadata": {},
   "source": [
    "## write a program to take dictionary from the keyboard and print the sum of values"
   ]
  },
  {
   "cell_type": "code",
   "execution_count": null,
   "id": "7f541db4",
   "metadata": {},
   "outputs": [],
   "source": [
    "d =eval(input(\"enter dictionary:\"))\n",
    "s=sum(d.values())\n",
    "print(\"sum=\",s)"
   ]
  },
  {
   "cell_type": "code",
   "execution_count": null,
   "id": "ee34a851",
   "metadata": {},
   "outputs": [],
   "source": []
  },
  {
   "cell_type": "code",
   "execution_count": null,
   "id": "cf941a97",
   "metadata": {},
   "outputs": [],
   "source": []
  }
 ],
 "metadata": {
  "kernelspec": {
   "display_name": "Python 3 (ipykernel)",
   "language": "python",
   "name": "python3"
  },
  "language_info": {
   "codemirror_mode": {
    "name": "ipython",
    "version": 3
   },
   "file_extension": ".py",
   "mimetype": "text/x-python",
   "name": "python",
   "nbconvert_exporter": "python",
   "pygments_lexer": "ipython3",
   "version": "3.10.4"
  }
 },
 "nbformat": 4,
 "nbformat_minor": 5
}
